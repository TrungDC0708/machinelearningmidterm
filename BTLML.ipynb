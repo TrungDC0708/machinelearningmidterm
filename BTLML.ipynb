{
  "nbformat": 4,
  "nbformat_minor": 0,
  "metadata": {
    "colab": {
      "name": "BTLML.ipynb",
      "provenance": []
    },
    "kernelspec": {
      "name": "python3",
      "display_name": "Python 3"
    },
    "language_info": {
      "name": "python"
    },
    "accelerator": "GPU"
  },
  "cells": [
    {
      "cell_type": "code",
      "metadata": {
        "colab": {
          "base_uri": "https://localhost:8080/"
        },
        "id": "LDVm1t0VzP4l",
        "outputId": "fcdc30d5-dbcc-439a-bf59-c94106be49c2"
      },
      "source": [
        "from google.colab import drive\n",
        "drive.mount('/content/drive')"
      ],
      "execution_count": 1,
      "outputs": [
        {
          "output_type": "stream",
          "name": "stdout",
          "text": [
            "Mounted at /content/drive\n"
          ]
        }
      ]
    },
    {
      "cell_type": "code",
      "metadata": {
        "colab": {
          "base_uri": "https://localhost:8080/"
        },
        "id": "OjOg3jDWx3_8",
        "outputId": "8c44d8ba-7ff1-4209-e81c-20e6470785dd"
      },
      "source": [
        "!git clone https://github.com/TrungDC0708/machinelearningmidterm.git"
      ],
      "execution_count": 2,
      "outputs": [
        {
          "output_type": "stream",
          "name": "stdout",
          "text": [
            "Cloning into 'machinelearningmidterm'...\n",
            "remote: Enumerating objects: 12, done.\u001b[K\n",
            "remote: Counting objects: 100% (12/12), done.\u001b[K\n",
            "remote: Compressing objects: 100% (12/12), done.\u001b[K\n",
            "remote: Total 12 (delta 0), reused 12 (delta 0), pack-reused 0\u001b[K\n",
            "Unpacking objects: 100% (12/12), done.\n"
          ]
        }
      ]
    },
    {
      "cell_type": "code",
      "metadata": {
        "id": "Kg9Zk9nxeN4I"
      },
      "source": [
        "!scp -r /content/drive/MyDrive/data.zip /content/"
      ],
      "execution_count": 4,
      "outputs": []
    },
    {
      "cell_type": "code",
      "metadata": {
        "colab": {
          "base_uri": "https://localhost:8080/"
        },
        "id": "wV65Tj8ynvnk",
        "outputId": "55b4eeb9-eb7d-459b-8146-fda1dd09e756"
      },
      "source": [
        "!unzip data.zip"
      ],
      "execution_count": 5,
      "outputs": [
        {
          "output_type": "stream",
          "name": "stdout",
          "text": [
            "Archive:  data.zip\n",
            "   creating: coco128/\n",
            "  inflating: coco128/coco2.data      \n",
            "   creating: coco128/images/\n",
            "   creating: coco128/images/train2017/\n",
            "  inflating: coco128/images/train2017/000000000009.jpg  \n",
            "  inflating: coco128/images/train2017/000000000025.jpg  \n",
            "  inflating: coco128/images/train2017/000000000030.jpg  \n",
            "  inflating: coco128/images/train2017/000000000034.jpg  \n",
            "  inflating: coco128/images/train2017/000000000036.jpg  \n",
            "  inflating: coco128/images/train2017/000000000042.jpg  \n",
            "  inflating: coco128/images/train2017/000000000049.jpg  \n",
            "  inflating: coco128/images/train2017/000000000061.jpg  \n",
            "  inflating: coco128/images/train2017/000000000064.jpg  \n",
            "  inflating: coco128/images/train2017/000000000071.jpg  \n",
            "  inflating: coco128/images/train2017/000000000072.jpg  \n",
            "  inflating: coco128/images/train2017/000000000073.jpg  \n",
            "  inflating: coco128/images/train2017/000000000074.jpg  \n",
            "  inflating: coco128/images/train2017/000000000077.jpg  \n",
            "  inflating: coco128/images/train2017/000000000078.jpg  \n",
            "  inflating: coco128/images/train2017/000000000081.jpg  \n",
            "  inflating: coco128/images/train2017/000000000086.jpg  \n",
            "  inflating: coco128/images/train2017/000000000089.jpg  \n",
            "  inflating: coco128/images/train2017/000000000092.jpg  \n",
            "  inflating: coco128/images/train2017/000000000094.jpg  \n",
            "  inflating: coco128/images/train2017/000000000109.jpg  \n",
            "  inflating: coco128/images/train2017/000000000110.jpg  \n",
            "  inflating: coco128/images/train2017/000000000113.jpg  \n",
            "  inflating: coco128/images/train2017/000000000127.jpg  \n",
            "  inflating: coco128/images/train2017/000000000133.jpg  \n",
            "  inflating: coco128/images/train2017/000000000136.jpg  \n",
            "  inflating: coco128/images/train2017/000000000138.jpg  \n",
            "  inflating: coco128/images/train2017/000000000142.jpg  \n",
            "  inflating: coco128/images/train2017/000000000143.jpg  \n",
            "  inflating: coco128/images/train2017/000000000144.jpg  \n",
            "  inflating: coco128/images/train2017/000000000149.jpg  \n",
            "  inflating: coco128/images/train2017/000000000151.jpg  \n",
            "  inflating: coco128/images/train2017/000000000154.jpg  \n",
            "  inflating: coco128/images/train2017/000000000164.jpg  \n",
            "  inflating: coco128/images/train2017/000000000165.jpg  \n",
            "  inflating: coco128/images/train2017/000000000192.jpg  \n",
            "  inflating: coco128/images/train2017/000000000194.jpg  \n",
            "  inflating: coco128/images/train2017/000000000196.jpg  \n",
            "  inflating: coco128/images/train2017/000000000201.jpg  \n",
            "  inflating: coco128/images/train2017/000000000208.jpg  \n",
            "  inflating: coco128/images/train2017/000000000241.jpg  \n",
            "  inflating: coco128/images/train2017/000000000247.jpg  \n",
            "  inflating: coco128/images/train2017/000000000250.jpg  \n",
            "  inflating: coco128/images/train2017/000000000257.jpg  \n",
            "  inflating: coco128/images/train2017/000000000260.jpg  \n",
            "  inflating: coco128/images/train2017/000000000263.jpg  \n",
            "  inflating: coco128/images/train2017/000000000283.jpg  \n",
            "  inflating: coco128/images/train2017/000000000294.jpg  \n",
            "  inflating: coco128/images/train2017/000000000307.jpg  \n",
            "  inflating: coco128/images/train2017/000000000308.jpg  \n",
            "  inflating: coco128/images/train2017/000000000309.jpg  \n",
            "  inflating: coco128/images/train2017/000000000312.jpg  \n",
            "  inflating: coco128/images/train2017/000000000315.jpg  \n",
            "  inflating: coco128/images/train2017/000000000321.jpg  \n",
            "  inflating: coco128/images/train2017/000000000322.jpg  \n",
            "  inflating: coco128/images/train2017/000000000326.jpg  \n",
            "  inflating: coco128/images/train2017/000000000328.jpg  \n",
            "  inflating: coco128/images/train2017/000000000332.jpg  \n",
            "  inflating: coco128/images/train2017/000000000338.jpg  \n",
            "  inflating: coco128/images/train2017/000000000349.jpg  \n",
            "  inflating: coco128/images/train2017/000000000357.jpg  \n",
            "  inflating: coco128/images/train2017/000000000359.jpg  \n",
            "  inflating: coco128/images/train2017/000000000360.jpg  \n",
            "  inflating: coco128/images/train2017/000000000368.jpg  \n",
            "  inflating: coco128/images/train2017/000000000370.jpg  \n",
            "  inflating: coco128/images/train2017/000000000382.jpg  \n",
            "  inflating: coco128/images/train2017/000000000384.jpg  \n",
            "  inflating: coco128/images/train2017/000000000387.jpg  \n",
            "  inflating: coco128/images/train2017/000000000389.jpg  \n",
            "  inflating: coco128/images/train2017/000000000394.jpg  \n",
            "  inflating: coco128/images/train2017/000000000395.jpg  \n",
            "  inflating: coco128/images/train2017/000000000397.jpg  \n",
            "  inflating: coco128/images/train2017/000000000400.jpg  \n",
            "  inflating: coco128/images/train2017/000000000404.jpg  \n",
            "  inflating: coco128/images/train2017/000000000415.jpg  \n",
            "  inflating: coco128/images/train2017/000000000419.jpg  \n",
            "  inflating: coco128/images/train2017/000000000428.jpg  \n",
            "  inflating: coco128/images/train2017/000000000431.jpg  \n",
            "  inflating: coco128/images/train2017/000000000436.jpg  \n",
            "  inflating: coco128/images/train2017/000000000438.jpg  \n",
            "  inflating: coco128/images/train2017/000000000443.jpg  \n",
            "  inflating: coco128/images/train2017/000000000446.jpg  \n",
            "  inflating: coco128/images/train2017/000000000450.jpg  \n",
            "  inflating: coco128/images/train2017/000000000459.jpg  \n",
            "  inflating: coco128/images/train2017/000000000471.jpg  \n",
            "  inflating: coco128/images/train2017/000000000472.jpg  \n",
            "  inflating: coco128/images/train2017/000000000474.jpg  \n",
            "  inflating: coco128/images/train2017/000000000486.jpg  \n",
            "  inflating: coco128/images/train2017/000000000488.jpg  \n",
            "  inflating: coco128/images/train2017/000000000490.jpg  \n",
            "  inflating: coco128/images/train2017/000000000491.jpg  \n",
            "  inflating: coco128/images/train2017/000000000502.jpg  \n",
            "  inflating: coco128/images/train2017/000000000508.jpg  \n",
            "  inflating: coco128/images/train2017/000000000510.jpg  \n",
            "  inflating: coco128/images/train2017/000000000514.jpg  \n",
            "  inflating: coco128/images/train2017/000000000520.jpg  \n",
            "  inflating: coco128/images/train2017/000000000529.jpg  \n",
            "  inflating: coco128/images/train2017/000000000531.jpg  \n",
            "  inflating: coco128/images/train2017/000000000532.jpg  \n",
            "  inflating: coco128/images/train2017/000000000536.jpg  \n",
            "  inflating: coco128/images/train2017/000000000540.jpg  \n",
            "  inflating: coco128/images/train2017/000000000542.jpg  \n",
            "  inflating: coco128/images/train2017/000000000544.jpg  \n",
            "  inflating: coco128/images/train2017/000000000560.jpg  \n",
            "  inflating: coco128/images/train2017/000000000562.jpg  \n",
            "  inflating: coco128/images/train2017/000000000564.jpg  \n",
            "  inflating: coco128/images/train2017/000000000569.jpg  \n",
            "  inflating: coco128/images/train2017/000000000572.jpg  \n",
            "  inflating: coco128/images/train2017/000000000575.jpg  \n",
            "  inflating: coco128/images/train2017/000000000581.jpg  \n",
            "  inflating: coco128/images/train2017/000000000584.jpg  \n",
            "  inflating: coco128/images/train2017/000000000589.jpg  \n",
            "  inflating: coco128/images/train2017/000000000590.jpg  \n",
            "  inflating: coco128/images/train2017/000000000595.jpg  \n",
            "  inflating: coco128/images/train2017/000000000597.jpg  \n",
            "  inflating: coco128/images/train2017/000000000599.jpg  \n",
            "  inflating: coco128/images/train2017/000000000605.jpg  \n",
            "  inflating: coco128/images/train2017/000000000612.jpg  \n",
            "  inflating: coco128/images/train2017/000000000620.jpg  \n",
            "  inflating: coco128/images/train2017/000000000623.jpg  \n",
            "  inflating: coco128/images/train2017/000000000625.jpg  \n",
            "  inflating: coco128/images/train2017/000000000626.jpg  \n",
            "  inflating: coco128/images/train2017/000000000629.jpg  \n",
            "  inflating: coco128/images/train2017/000000000634.jpg  \n",
            "  inflating: coco128/images/train2017/000000000636.jpg  \n",
            "  inflating: coco128/images/train2017/000000000641.jpg  \n",
            "  inflating: coco128/images/train2017/000000000643.jpg  \n",
            "  inflating: coco128/images/train2017/000000000650.jpg  \n",
            "   creating: coco128/labels/\n",
            "   creating: coco128/labels/train2017/\n",
            "  inflating: coco128/labels/train2017/000000000009.txt  \n",
            "  inflating: coco128/labels/train2017/000000000025.txt  \n",
            "  inflating: coco128/labels/train2017/000000000030.txt  \n",
            "  inflating: coco128/labels/train2017/000000000034.txt  \n",
            "  inflating: coco128/labels/train2017/000000000036.txt  \n",
            "  inflating: coco128/labels/train2017/000000000042.txt  \n",
            "  inflating: coco128/labels/train2017/000000000049.txt  \n",
            "  inflating: coco128/labels/train2017/000000000061.txt  \n",
            "  inflating: coco128/labels/train2017/000000000064.txt  \n",
            "  inflating: coco128/labels/train2017/000000000071.txt  \n",
            "  inflating: coco128/labels/train2017/000000000072.txt  \n",
            "  inflating: coco128/labels/train2017/000000000073.txt  \n",
            "  inflating: coco128/labels/train2017/000000000074.txt  \n",
            "  inflating: coco128/labels/train2017/000000000077.txt  \n",
            "  inflating: coco128/labels/train2017/000000000078.txt  \n",
            "  inflating: coco128/labels/train2017/000000000081.txt  \n",
            "  inflating: coco128/labels/train2017/000000000086.txt  \n",
            "  inflating: coco128/labels/train2017/000000000089.txt  \n",
            "  inflating: coco128/labels/train2017/000000000092.txt  \n",
            "  inflating: coco128/labels/train2017/000000000094.txt  \n",
            "  inflating: coco128/labels/train2017/000000000109.txt  \n",
            "  inflating: coco128/labels/train2017/000000000110.txt  \n",
            "  inflating: coco128/labels/train2017/000000000113.txt  \n",
            "  inflating: coco128/labels/train2017/000000000127.txt  \n",
            "  inflating: coco128/labels/train2017/000000000133.txt  \n",
            "  inflating: coco128/labels/train2017/000000000136.txt  \n",
            "  inflating: coco128/labels/train2017/000000000138.txt  \n",
            "  inflating: coco128/labels/train2017/000000000142.txt  \n",
            "  inflating: coco128/labels/train2017/000000000143.txt  \n",
            "  inflating: coco128/labels/train2017/000000000144.txt  \n",
            "  inflating: coco128/labels/train2017/000000000149.txt  \n",
            "  inflating: coco128/labels/train2017/000000000151.txt  \n",
            "  inflating: coco128/labels/train2017/000000000154.txt  \n",
            "  inflating: coco128/labels/train2017/000000000164.txt  \n",
            "  inflating: coco128/labels/train2017/000000000165.txt  \n",
            "  inflating: coco128/labels/train2017/000000000192.txt  \n",
            "  inflating: coco128/labels/train2017/000000000194.txt  \n",
            "  inflating: coco128/labels/train2017/000000000196.txt  \n",
            "  inflating: coco128/labels/train2017/000000000201.txt  \n",
            "  inflating: coco128/labels/train2017/000000000208.txt  \n",
            "  inflating: coco128/labels/train2017/000000000241.txt  \n",
            "  inflating: coco128/labels/train2017/000000000247.txt  \n",
            " extracting: coco128/labels/train2017/000000000250.txt  \n",
            "  inflating: coco128/labels/train2017/000000000257.txt  \n",
            "  inflating: coco128/labels/train2017/000000000260.txt  \n",
            "  inflating: coco128/labels/train2017/000000000263.txt  \n",
            "  inflating: coco128/labels/train2017/000000000283.txt  \n",
            "  inflating: coco128/labels/train2017/000000000294.txt  \n",
            "  inflating: coco128/labels/train2017/000000000307.txt  \n",
            "  inflating: coco128/labels/train2017/000000000308.txt  \n",
            "  inflating: coco128/labels/train2017/000000000309.txt  \n",
            "  inflating: coco128/labels/train2017/000000000312.txt  \n",
            "  inflating: coco128/labels/train2017/000000000315.txt  \n",
            "  inflating: coco128/labels/train2017/000000000321.txt  \n",
            "  inflating: coco128/labels/train2017/000000000322.txt  \n",
            "  inflating: coco128/labels/train2017/000000000326.txt  \n",
            "  inflating: coco128/labels/train2017/000000000328.txt  \n",
            "  inflating: coco128/labels/train2017/000000000332.txt  \n",
            "  inflating: coco128/labels/train2017/000000000338.txt  \n",
            "  inflating: coco128/labels/train2017/000000000349.txt  \n",
            "  inflating: coco128/labels/train2017/000000000357.txt  \n",
            "  inflating: coco128/labels/train2017/000000000359.txt  \n",
            "  inflating: coco128/labels/train2017/000000000360.txt  \n",
            "  inflating: coco128/labels/train2017/000000000368.txt  \n",
            "  inflating: coco128/labels/train2017/000000000370.txt  \n",
            "  inflating: coco128/labels/train2017/000000000382.txt  \n",
            "  inflating: coco128/labels/train2017/000000000384.txt  \n",
            "  inflating: coco128/labels/train2017/000000000387.txt  \n",
            "  inflating: coco128/labels/train2017/000000000389.txt  \n",
            "  inflating: coco128/labels/train2017/000000000394.txt  \n",
            "  inflating: coco128/labels/train2017/000000000395.txt  \n",
            "  inflating: coco128/labels/train2017/000000000397.txt  \n",
            "  inflating: coco128/labels/train2017/000000000400.txt  \n",
            "  inflating: coco128/labels/train2017/000000000404.txt  \n",
            "  inflating: coco128/labels/train2017/000000000415.txt  \n",
            "  inflating: coco128/labels/train2017/000000000419.txt  \n",
            "  inflating: coco128/labels/train2017/000000000428.txt  \n",
            "  inflating: coco128/labels/train2017/000000000431.txt  \n",
            "  inflating: coco128/labels/train2017/000000000436.txt  \n",
            "  inflating: coco128/labels/train2017/000000000438.txt  \n",
            "  inflating: coco128/labels/train2017/000000000443.txt  \n",
            "  inflating: coco128/labels/train2017/000000000446.txt  \n",
            "  inflating: coco128/labels/train2017/000000000450.txt  \n",
            "  inflating: coco128/labels/train2017/000000000459.txt  \n",
            "  inflating: coco128/labels/train2017/000000000471.txt  \n",
            "  inflating: coco128/labels/train2017/000000000472.txt  \n",
            "  inflating: coco128/labels/train2017/000000000474.txt  \n",
            "  inflating: coco128/labels/train2017/000000000486.txt  \n",
            "  inflating: coco128/labels/train2017/000000000488.txt  \n",
            "  inflating: coco128/labels/train2017/000000000490.txt  \n",
            "  inflating: coco128/labels/train2017/000000000491.txt  \n",
            "  inflating: coco128/labels/train2017/000000000502.txt  \n",
            " extracting: coco128/labels/train2017/000000000508.txt  \n",
            "  inflating: coco128/labels/train2017/000000000510.txt  \n",
            "  inflating: coco128/labels/train2017/000000000514.txt  \n",
            "  inflating: coco128/labels/train2017/000000000520.txt  \n",
            "  inflating: coco128/labels/train2017/000000000529.txt  \n",
            "  inflating: coco128/labels/train2017/000000000531.txt  \n",
            "  inflating: coco128/labels/train2017/000000000532.txt  \n",
            "  inflating: coco128/labels/train2017/000000000536.txt  \n",
            "  inflating: coco128/labels/train2017/000000000540.txt  \n",
            "  inflating: coco128/labels/train2017/000000000542.txt  \n",
            "  inflating: coco128/labels/train2017/000000000544.txt  \n",
            "  inflating: coco128/labels/train2017/000000000560.txt  \n",
            "  inflating: coco128/labels/train2017/000000000562.txt  \n",
            "  inflating: coco128/labels/train2017/000000000564.txt  \n",
            "  inflating: coco128/labels/train2017/000000000569.txt  \n",
            "  inflating: coco128/labels/train2017/000000000572.txt  \n",
            "  inflating: coco128/labels/train2017/000000000575.txt  \n",
            "  inflating: coco128/labels/train2017/000000000581.txt  \n",
            "  inflating: coco128/labels/train2017/000000000584.txt  \n",
            "  inflating: coco128/labels/train2017/000000000589.txt  \n",
            "  inflating: coco128/labels/train2017/000000000590.txt  \n",
            "  inflating: coco128/labels/train2017/000000000595.txt  \n",
            "  inflating: coco128/labels/train2017/000000000597.txt  \n",
            "  inflating: coco128/labels/train2017/000000000599.txt  \n",
            "  inflating: coco128/labels/train2017/000000000605.txt  \n",
            "  inflating: coco128/labels/train2017/000000000612.txt  \n",
            "  inflating: coco128/labels/train2017/000000000620.txt  \n",
            "  inflating: coco128/labels/train2017/000000000623.txt  \n",
            "  inflating: coco128/labels/train2017/000000000625.txt  \n",
            "  inflating: coco128/labels/train2017/000000000626.txt  \n",
            "  inflating: coco128/labels/train2017/000000000629.txt  \n",
            "  inflating: coco128/labels/train2017/000000000634.txt  \n",
            "  inflating: coco128/labels/train2017/000000000636.txt  \n",
            "  inflating: coco128/labels/train2017/000000000641.txt  \n",
            "  inflating: coco128/labels/train2017/000000000643.txt  \n",
            "  inflating: coco128/labels/train2017/000000000650.txt  \n",
            "  inflating: coco128/LICENSE         \n",
            "  inflating: coco128/README.txt      \n",
            "  inflating: coco128/train.txt       \n",
            "  inflating: coco128/valid.txt       \n",
            "   creating: config/\n",
            "  inflating: config/yolo-tiny.cfg    \n",
            "  inflating: config/yolov3.cfg       \n",
            "   creating: weights/\n",
            "  inflating: weights/yolov3-tiny.weights  \n",
            "  inflating: weights/yolov3.weights  \n",
            "  inflating: coco.names              \n",
            "  inflating: pallete                 \n",
            "  inflating: video.mp4               \n",
            "  inflating: config/yolov3s.cfg      \n",
            "  inflating: weights/yolov3-spp.weights  \n",
            "   creating: logs/\n",
            "   creating: logs/tiny/\n",
            "  inflating: logs/tiny/events.out.tfevents.1638099612.e6f62dc9c2e0.678.0  \n",
            "   creating: logs/yolos/\n",
            "  inflating: logs/yolos/events.out.tfevents.1638102504.e6f62dc9c2e0.1579.0  \n",
            "   creating: logs/yolov3/\n",
            "  inflating: logs/yolov3/events.out.tfevents.1638100558.e6f62dc9c2e0.1079.0  \n"
          ]
        }
      ]
    },
    {
      "cell_type": "code",
      "metadata": {
        "colab": {
          "base_uri": "https://localhost:8080/"
        },
        "id": "UfZxZeone7xx",
        "outputId": "bc9e3fe4-93a7-484a-b985-fc301588fdf7"
      },
      "source": [
        "!pip install terminaltables"
      ],
      "execution_count": 6,
      "outputs": [
        {
          "output_type": "stream",
          "name": "stdout",
          "text": [
            "Collecting terminaltables\n",
            "  Downloading terminaltables-3.1.0.tar.gz (12 kB)\n",
            "Building wheels for collected packages: terminaltables\n",
            "  Building wheel for terminaltables (setup.py) ... \u001b[?25l\u001b[?25hdone\n",
            "  Created wheel for terminaltables: filename=terminaltables-3.1.0-py3-none-any.whl size=15354 sha256=e263807118aead3a9b8e07bf2229e36ff94c2743950e9421ef4b864f29d7d2ee\n",
            "  Stored in directory: /root/.cache/pip/wheels/ba/ad/c8/2d98360791161cd3db6daf6b5e730f34021fc9367d5879f497\n",
            "Successfully built terminaltables\n",
            "Installing collected packages: terminaltables\n",
            "Successfully installed terminaltables-3.1.0\n"
          ]
        }
      ]
    },
    {
      "cell_type": "code",
      "metadata": {
        "colab": {
          "base_uri": "https://localhost:8080/"
        },
        "id": "XxLo_cww2Xid",
        "outputId": "57363a22-056c-4829-b14a-2f040c431722"
      },
      "source": [
        "!pip install pytorch-lightning"
      ],
      "execution_count": 7,
      "outputs": [
        {
          "output_type": "stream",
          "name": "stdout",
          "text": [
            "Collecting pytorch-lightning\n",
            "  Downloading pytorch_lightning-1.5.3-py3-none-any.whl (523 kB)\n",
            "\u001b[K     |████████████████████████████████| 523 kB 13.2 MB/s \n",
            "\u001b[?25hRequirement already satisfied: packaging>=17.0 in /usr/local/lib/python3.7/dist-packages (from pytorch-lightning) (21.3)\n",
            "Requirement already satisfied: typing-extensions in /usr/local/lib/python3.7/dist-packages (from pytorch-lightning) (3.10.0.2)\n",
            "Collecting pyDeprecate==0.3.1\n",
            "  Downloading pyDeprecate-0.3.1-py3-none-any.whl (10 kB)\n",
            "Requirement already satisfied: tqdm>=4.41.0 in /usr/local/lib/python3.7/dist-packages (from pytorch-lightning) (4.62.3)\n",
            "Requirement already satisfied: numpy>=1.17.2 in /usr/local/lib/python3.7/dist-packages (from pytorch-lightning) (1.19.5)\n",
            "Requirement already satisfied: torch>=1.6 in /usr/local/lib/python3.7/dist-packages (from pytorch-lightning) (1.10.0+cu111)\n",
            "Requirement already satisfied: tensorboard>=2.2.0 in /usr/local/lib/python3.7/dist-packages (from pytorch-lightning) (2.7.0)\n",
            "Collecting future>=0.17.1\n",
            "  Downloading future-0.18.2.tar.gz (829 kB)\n",
            "\u001b[K     |████████████████████████████████| 829 kB 42.0 MB/s \n",
            "\u001b[?25hCollecting torchmetrics>=0.4.1\n",
            "  Downloading torchmetrics-0.6.0-py3-none-any.whl (329 kB)\n",
            "\u001b[K     |████████████████████████████████| 329 kB 48.8 MB/s \n",
            "\u001b[?25hCollecting fsspec[http]!=2021.06.0,>=2021.05.0\n",
            "  Downloading fsspec-2021.11.1-py3-none-any.whl (132 kB)\n",
            "\u001b[K     |████████████████████████████████| 132 kB 45.5 MB/s \n",
            "\u001b[?25hCollecting PyYAML>=5.1\n",
            "  Downloading PyYAML-6.0-cp37-cp37m-manylinux_2_5_x86_64.manylinux1_x86_64.manylinux_2_12_x86_64.manylinux2010_x86_64.whl (596 kB)\n",
            "\u001b[K     |████████████████████████████████| 596 kB 49.5 MB/s \n",
            "\u001b[?25hRequirement already satisfied: requests in /usr/local/lib/python3.7/dist-packages (from fsspec[http]!=2021.06.0,>=2021.05.0->pytorch-lightning) (2.23.0)\n",
            "Collecting aiohttp\n",
            "  Downloading aiohttp-3.8.1-cp37-cp37m-manylinux_2_5_x86_64.manylinux1_x86_64.manylinux_2_12_x86_64.manylinux2010_x86_64.whl (1.1 MB)\n",
            "\u001b[K     |████████████████████████████████| 1.1 MB 38.9 MB/s \n",
            "\u001b[?25hRequirement already satisfied: pyparsing!=3.0.5,>=2.0.2 in /usr/local/lib/python3.7/dist-packages (from packaging>=17.0->pytorch-lightning) (3.0.6)\n",
            "Requirement already satisfied: grpcio>=1.24.3 in /usr/local/lib/python3.7/dist-packages (from tensorboard>=2.2.0->pytorch-lightning) (1.42.0)\n",
            "Requirement already satisfied: tensorboard-data-server<0.7.0,>=0.6.0 in /usr/local/lib/python3.7/dist-packages (from tensorboard>=2.2.0->pytorch-lightning) (0.6.1)\n",
            "Requirement already satisfied: tensorboard-plugin-wit>=1.6.0 in /usr/local/lib/python3.7/dist-packages (from tensorboard>=2.2.0->pytorch-lightning) (1.8.0)\n",
            "Requirement already satisfied: absl-py>=0.4 in /usr/local/lib/python3.7/dist-packages (from tensorboard>=2.2.0->pytorch-lightning) (0.12.0)\n",
            "Requirement already satisfied: werkzeug>=0.11.15 in /usr/local/lib/python3.7/dist-packages (from tensorboard>=2.2.0->pytorch-lightning) (1.0.1)\n",
            "Requirement already satisfied: google-auth-oauthlib<0.5,>=0.4.1 in /usr/local/lib/python3.7/dist-packages (from tensorboard>=2.2.0->pytorch-lightning) (0.4.6)\n",
            "Requirement already satisfied: markdown>=2.6.8 in /usr/local/lib/python3.7/dist-packages (from tensorboard>=2.2.0->pytorch-lightning) (3.3.6)\n",
            "Requirement already satisfied: wheel>=0.26 in /usr/local/lib/python3.7/dist-packages (from tensorboard>=2.2.0->pytorch-lightning) (0.37.0)\n",
            "Requirement already satisfied: setuptools>=41.0.0 in /usr/local/lib/python3.7/dist-packages (from tensorboard>=2.2.0->pytorch-lightning) (57.4.0)\n",
            "Requirement already satisfied: protobuf>=3.6.0 in /usr/local/lib/python3.7/dist-packages (from tensorboard>=2.2.0->pytorch-lightning) (3.17.3)\n",
            "Requirement already satisfied: google-auth<3,>=1.6.3 in /usr/local/lib/python3.7/dist-packages (from tensorboard>=2.2.0->pytorch-lightning) (1.35.0)\n",
            "Requirement already satisfied: six in /usr/local/lib/python3.7/dist-packages (from absl-py>=0.4->tensorboard>=2.2.0->pytorch-lightning) (1.15.0)\n",
            "Requirement already satisfied: cachetools<5.0,>=2.0.0 in /usr/local/lib/python3.7/dist-packages (from google-auth<3,>=1.6.3->tensorboard>=2.2.0->pytorch-lightning) (4.2.4)\n",
            "Requirement already satisfied: pyasn1-modules>=0.2.1 in /usr/local/lib/python3.7/dist-packages (from google-auth<3,>=1.6.3->tensorboard>=2.2.0->pytorch-lightning) (0.2.8)\n",
            "Requirement already satisfied: rsa<5,>=3.1.4 in /usr/local/lib/python3.7/dist-packages (from google-auth<3,>=1.6.3->tensorboard>=2.2.0->pytorch-lightning) (4.7.2)\n",
            "Requirement already satisfied: requests-oauthlib>=0.7.0 in /usr/local/lib/python3.7/dist-packages (from google-auth-oauthlib<0.5,>=0.4.1->tensorboard>=2.2.0->pytorch-lightning) (1.3.0)\n",
            "Requirement already satisfied: importlib-metadata>=4.4 in /usr/local/lib/python3.7/dist-packages (from markdown>=2.6.8->tensorboard>=2.2.0->pytorch-lightning) (4.8.2)\n",
            "Requirement already satisfied: zipp>=0.5 in /usr/local/lib/python3.7/dist-packages (from importlib-metadata>=4.4->markdown>=2.6.8->tensorboard>=2.2.0->pytorch-lightning) (3.6.0)\n",
            "Requirement already satisfied: pyasn1<0.5.0,>=0.4.6 in /usr/local/lib/python3.7/dist-packages (from pyasn1-modules>=0.2.1->google-auth<3,>=1.6.3->tensorboard>=2.2.0->pytorch-lightning) (0.4.8)\n",
            "Requirement already satisfied: urllib3!=1.25.0,!=1.25.1,<1.26,>=1.21.1 in /usr/local/lib/python3.7/dist-packages (from requests->fsspec[http]!=2021.06.0,>=2021.05.0->pytorch-lightning) (1.24.3)\n",
            "Requirement already satisfied: certifi>=2017.4.17 in /usr/local/lib/python3.7/dist-packages (from requests->fsspec[http]!=2021.06.0,>=2021.05.0->pytorch-lightning) (2021.10.8)\n",
            "Requirement already satisfied: chardet<4,>=3.0.2 in /usr/local/lib/python3.7/dist-packages (from requests->fsspec[http]!=2021.06.0,>=2021.05.0->pytorch-lightning) (3.0.4)\n",
            "Requirement already satisfied: idna<3,>=2.5 in /usr/local/lib/python3.7/dist-packages (from requests->fsspec[http]!=2021.06.0,>=2021.05.0->pytorch-lightning) (2.10)\n",
            "Requirement already satisfied: oauthlib>=3.0.0 in /usr/local/lib/python3.7/dist-packages (from requests-oauthlib>=0.7.0->google-auth-oauthlib<0.5,>=0.4.1->tensorboard>=2.2.0->pytorch-lightning) (3.1.1)\n",
            "Collecting yarl<2.0,>=1.0\n",
            "  Downloading yarl-1.7.2-cp37-cp37m-manylinux_2_5_x86_64.manylinux1_x86_64.manylinux_2_12_x86_64.manylinux2010_x86_64.whl (271 kB)\n",
            "\u001b[K     |████████████████████████████████| 271 kB 50.3 MB/s \n",
            "\u001b[?25hRequirement already satisfied: charset-normalizer<3.0,>=2.0 in /usr/local/lib/python3.7/dist-packages (from aiohttp->fsspec[http]!=2021.06.0,>=2021.05.0->pytorch-lightning) (2.0.7)\n",
            "Collecting frozenlist>=1.1.1\n",
            "  Downloading frozenlist-1.2.0-cp37-cp37m-manylinux_2_5_x86_64.manylinux1_x86_64.manylinux_2_12_x86_64.manylinux2010_x86_64.whl (192 kB)\n",
            "\u001b[K     |████████████████████████████████| 192 kB 49.0 MB/s \n",
            "\u001b[?25hRequirement already satisfied: attrs>=17.3.0 in /usr/local/lib/python3.7/dist-packages (from aiohttp->fsspec[http]!=2021.06.0,>=2021.05.0->pytorch-lightning) (21.2.0)\n",
            "Collecting asynctest==0.13.0\n",
            "  Downloading asynctest-0.13.0-py3-none-any.whl (26 kB)\n",
            "Collecting multidict<7.0,>=4.5\n",
            "  Downloading multidict-5.2.0-cp37-cp37m-manylinux_2_5_x86_64.manylinux1_x86_64.manylinux_2_12_x86_64.manylinux2010_x86_64.whl (160 kB)\n",
            "\u001b[K     |████████████████████████████████| 160 kB 47.6 MB/s \n",
            "\u001b[?25hCollecting aiosignal>=1.1.2\n",
            "  Downloading aiosignal-1.2.0-py3-none-any.whl (8.2 kB)\n",
            "Collecting async-timeout<5.0,>=4.0.0a3\n",
            "  Downloading async_timeout-4.0.1-py3-none-any.whl (5.7 kB)\n",
            "Building wheels for collected packages: future\n",
            "  Building wheel for future (setup.py) ... \u001b[?25l\u001b[?25hdone\n",
            "  Created wheel for future: filename=future-0.18.2-py3-none-any.whl size=491070 sha256=b59e7d9beda95e2ad9b4634afa85f2b61fbbef99c3dafccdb7543787094ce2fd\n",
            "  Stored in directory: /root/.cache/pip/wheels/56/b0/fe/4410d17b32f1f0c3cf54cdfb2bc04d7b4b8f4ae377e2229ba0\n",
            "Successfully built future\n",
            "Installing collected packages: multidict, frozenlist, yarl, asynctest, async-timeout, aiosignal, fsspec, aiohttp, torchmetrics, PyYAML, pyDeprecate, future, pytorch-lightning\n",
            "  Attempting uninstall: PyYAML\n",
            "    Found existing installation: PyYAML 3.13\n",
            "    Uninstalling PyYAML-3.13:\n",
            "      Successfully uninstalled PyYAML-3.13\n",
            "  Attempting uninstall: future\n",
            "    Found existing installation: future 0.16.0\n",
            "    Uninstalling future-0.16.0:\n",
            "      Successfully uninstalled future-0.16.0\n",
            "Successfully installed PyYAML-6.0 aiohttp-3.8.1 aiosignal-1.2.0 async-timeout-4.0.1 asynctest-0.13.0 frozenlist-1.2.0 fsspec-2021.11.1 future-0.18.2 multidict-5.2.0 pyDeprecate-0.3.1 pytorch-lightning-1.5.3 torchmetrics-0.6.0 yarl-1.7.2\n"
          ]
        }
      ]
    },
    {
      "cell_type": "code",
      "metadata": {
        "colab": {
          "base_uri": "https://localhost:8080/"
        },
        "id": "gyhmIZX5UW0_",
        "outputId": "c556df58-2c83-4e62-b229-4a2fbe8036df"
      },
      "source": [
        "!pip install git+https://github.com/aleju/imgaug.git"
      ],
      "execution_count": 8,
      "outputs": [
        {
          "output_type": "stream",
          "name": "stdout",
          "text": [
            "Collecting git+https://github.com/aleju/imgaug.git\n",
            "  Cloning https://github.com/aleju/imgaug.git to /tmp/pip-req-build-qw16q7qm\n",
            "  Running command git clone -q https://github.com/aleju/imgaug.git /tmp/pip-req-build-qw16q7qm\n",
            "Requirement already satisfied: six in /usr/local/lib/python3.7/dist-packages (from imgaug==0.4.0) (1.15.0)\n",
            "Requirement already satisfied: numpy>=1.15 in /usr/local/lib/python3.7/dist-packages (from imgaug==0.4.0) (1.19.5)\n",
            "Requirement already satisfied: scipy in /usr/local/lib/python3.7/dist-packages (from imgaug==0.4.0) (1.4.1)\n",
            "Requirement already satisfied: Pillow in /usr/local/lib/python3.7/dist-packages (from imgaug==0.4.0) (7.1.2)\n",
            "Requirement already satisfied: matplotlib in /usr/local/lib/python3.7/dist-packages (from imgaug==0.4.0) (3.2.2)\n",
            "Requirement already satisfied: scikit-image>=0.14.2 in /usr/local/lib/python3.7/dist-packages (from imgaug==0.4.0) (0.18.3)\n",
            "Requirement already satisfied: opencv-python in /usr/local/lib/python3.7/dist-packages (from imgaug==0.4.0) (4.1.2.30)\n",
            "Requirement already satisfied: Shapely in /usr/local/lib/python3.7/dist-packages (from imgaug==0.4.0) (1.8.0)\n",
            "Requirement already satisfied: imageio in /usr/local/lib/python3.7/dist-packages (from imgaug==0.4.0) (2.4.1)\n",
            "Requirement already satisfied: networkx>=2.0 in /usr/local/lib/python3.7/dist-packages (from scikit-image>=0.14.2->imgaug==0.4.0) (2.6.3)\n",
            "Requirement already satisfied: PyWavelets>=1.1.1 in /usr/local/lib/python3.7/dist-packages (from scikit-image>=0.14.2->imgaug==0.4.0) (1.2.0)\n",
            "Requirement already satisfied: tifffile>=2019.7.26 in /usr/local/lib/python3.7/dist-packages (from scikit-image>=0.14.2->imgaug==0.4.0) (2021.11.2)\n",
            "Requirement already satisfied: python-dateutil>=2.1 in /usr/local/lib/python3.7/dist-packages (from matplotlib->imgaug==0.4.0) (2.8.2)\n",
            "Requirement already satisfied: cycler>=0.10 in /usr/local/lib/python3.7/dist-packages (from matplotlib->imgaug==0.4.0) (0.11.0)\n",
            "Requirement already satisfied: kiwisolver>=1.0.1 in /usr/local/lib/python3.7/dist-packages (from matplotlib->imgaug==0.4.0) (1.3.2)\n",
            "Requirement already satisfied: pyparsing!=2.0.4,!=2.1.2,!=2.1.6,>=2.0.1 in /usr/local/lib/python3.7/dist-packages (from matplotlib->imgaug==0.4.0) (3.0.6)\n",
            "Building wheels for collected packages: imgaug\n",
            "  Building wheel for imgaug (setup.py) ... \u001b[?25l\u001b[?25hdone\n",
            "  Created wheel for imgaug: filename=imgaug-0.4.0-py3-none-any.whl size=971122 sha256=c38173fee54f2141c49b008c939d414ac0434e68e67d1014fdb4088265f164c8\n",
            "  Stored in directory: /tmp/pip-ephem-wheel-cache-95zoq5ox/wheels/0c/78/b5/9303fae9d5e03df1f319adfe4e6534180b5c3232de11bc9a2f\n",
            "Successfully built imgaug\n",
            "Installing collected packages: imgaug\n",
            "  Attempting uninstall: imgaug\n",
            "    Found existing installation: imgaug 0.2.9\n",
            "    Uninstalling imgaug-0.2.9:\n",
            "      Successfully uninstalled imgaug-0.2.9\n",
            "\u001b[31mERROR: pip's dependency resolver does not currently take into account all the packages that are installed. This behaviour is the source of the following dependency conflicts.\n",
            "albumentations 0.1.12 requires imgaug<0.2.7,>=0.2.5, but you have imgaug 0.4.0 which is incompatible.\u001b[0m\n",
            "Successfully installed imgaug-0.4.0\n"
          ]
        }
      ]
    },
    {
      "cell_type": "code",
      "metadata": {
        "colab": {
          "base_uri": "https://localhost:8080/"
        },
        "id": "fDivCLx1uo_5",
        "outputId": "cd2f96f1-9050-4629-8a22-9672bc3738be"
      },
      "source": [
        "!python /content/machinelearningmidterm/train.py -d /content/coco128/coco2.data -m /content/config/yolo-tiny.cfg --pretrained_weights /content/weights/yolov3-tiny.weights"
      ],
      "execution_count": 9,
      "outputs": [
        {
          "output_type": "stream",
          "name": "stdout",
          "text": [
            "Command line arguments: Namespace(data='/content/coco128/coco2.data', logdir='logs', model='/content/config/yolo-tiny.cfg', pretrained_weights='/content/weights/yolov3-tiny.weights')\n",
            "\n",
            "---- Training Model ----\n",
            "Training Epoch 0: 100% 128/128 [00:08<00:00, 15.16it/s]\n",
            "---- Saving checkpoint to: 'checkpoints/yolov3_ckpt_0.weights' ----\n",
            "\n",
            "---- Evaluating Model ----\n",
            "Validating:   0% 0/37 [00:00<?, ?it/s]/usr/local/lib/python3.7/dist-packages/torch/functional.py:445: UserWarning: torch.meshgrid: in an upcoming release, it will be required to pass the indexing argument. (Triggered internally at  ../aten/src/ATen/native/TensorShape.cpp:2157.)\n",
            "  return _VF.meshgrid(tensors, **kwargs)  # type: ignore[attr-defined]\n",
            "Validating: 100% 37/37 [00:01<00:00, 31.80it/s]\n",
            "Computing AP: 100% 47/47 [00:00<00:00, 10313.50it/s]\n",
            "---- mAP 0.14668 ----\n",
            "\n",
            "---- Training Model ----\n",
            "Training Epoch 1: 100% 128/128 [00:07<00:00, 16.75it/s]\n",
            "---- Saving checkpoint to: 'checkpoints/yolov3_ckpt_1.weights' ----\n",
            "\n",
            "---- Evaluating Model ----\n",
            "Validating: 100% 37/37 [00:01<00:00, 33.38it/s]\n",
            "Computing AP: 100% 47/47 [00:00<00:00, 10201.95it/s]\n",
            "---- mAP 0.21089 ----\n",
            "\n",
            "---- Training Model ----\n",
            "Training Epoch 2: 100% 128/128 [00:08<00:00, 15.65it/s]\n",
            "---- Saving checkpoint to: 'checkpoints/yolov3_ckpt_2.weights' ----\n",
            "\n",
            "---- Evaluating Model ----\n",
            "Validating: 100% 37/37 [00:01<00:00, 33.79it/s]\n",
            "Computing AP: 100% 47/47 [00:00<00:00, 9463.86it/s]\n",
            "---- mAP 0.11487 ----\n",
            "\n",
            "---- Training Model ----\n",
            "Training Epoch 3: 100% 128/128 [00:07<00:00, 16.13it/s]\n",
            "---- Saving checkpoint to: 'checkpoints/yolov3_ckpt_3.weights' ----\n",
            "\n",
            "---- Evaluating Model ----\n",
            "Validating: 100% 37/37 [00:01<00:00, 34.73it/s]\n",
            "Computing AP: 100% 47/47 [00:00<00:00, 6701.76it/s]\n",
            "---- mAP 0.16077 ----\n",
            "\n",
            "---- Training Model ----\n",
            "Training Epoch 4:  98% 126/128 [00:08<00:00, 15.75it/s]\n",
            "Traceback (most recent call last):\n",
            "  File \"/content/machinelearningmidterm/train.py\", line 128, in <module>\n",
            "    run()\n",
            "  File \"/content/machinelearningmidterm/train.py\", line 64, in run\n",
            "    loss, loss_components = model.training_step(train_batch, batch_i)\n",
            "  File \"/content/machinelearningmidterm/models.py\", line 265, in training_step\n",
            "    loss, loss_components = compute_loss(outputs, y, self)\n",
            "  File \"/content/machinelearningmidterm/utils/loss.py\", line 73, in compute_loss\n",
            "    iou = bbox_iou(pbox.T, tbox[layer_index], x1y1x2y2=False, CIoU=True)\n",
            "  File \"/content/machinelearningmidterm/utils/loss.py\", line 34, in bbox_iou\n",
            "    c2 = cw ** 2 + ch ** 2 + eps\n",
            "KeyboardInterrupt\n"
          ]
        }
      ]
    },
    {
      "cell_type": "code",
      "metadata": {
        "colab": {
          "base_uri": "https://localhost:8080/"
        },
        "id": "eCPsUA6JZUON",
        "outputId": "743e9808-383a-4a80-bd4f-87f1a080c52d"
      },
      "source": [
        "!python /content/machinelearningmidterm/train.py -d /content/coco128/coco2.data -m /content/config/yolov3.cfg --pretrained_weights /content/weights/yolov3.weights"
      ],
      "execution_count": 10,
      "outputs": [
        {
          "output_type": "stream",
          "name": "stdout",
          "text": [
            "Command line arguments: Namespace(data='/content/coco128/coco2.data', logdir='logs', model='/content/config/yolov3.cfg', pretrained_weights='/content/weights/yolov3.weights')\n",
            "\n",
            "---- Training Model ----\n",
            "Training Epoch 0: 100% 8/8 [00:14<00:00,  1.84s/it]\n",
            "---- Saving checkpoint to: 'checkpoints/yolov3_ckpt_0.weights' ----\n",
            "\n",
            "---- Evaluating Model ----\n",
            "Validating:   0% 0/3 [00:00<?, ?it/s]/usr/local/lib/python3.7/dist-packages/torch/functional.py:445: UserWarning: torch.meshgrid: in an upcoming release, it will be required to pass the indexing argument. (Triggered internally at  ../aten/src/ATen/native/TensorShape.cpp:2157.)\n",
            "  return _VF.meshgrid(tensors, **kwargs)  # type: ignore[attr-defined]\n",
            "Validating: 100% 3/3 [00:02<00:00,  1.49it/s]\n",
            "Computing AP: 100% 47/47 [00:00<00:00, 9743.11it/s]\n",
            "---- mAP 0.71229 ----\n",
            "\n",
            "---- Training Model ----\n",
            "Training Epoch 1:   0% 0/8 [00:02<?, ?it/s]\n",
            "Traceback (most recent call last):\n",
            "  File \"/content/machinelearningmidterm/train.py\", line 128, in <module>\n",
            "    run()\n",
            "  File \"/content/machinelearningmidterm/train.py\", line 79, in run\n",
            "    optimizer.zero_grad()\n",
            "  File \"/usr/local/lib/python3.7/dist-packages/torch/optim/optimizer.py\", line 217, in zero_grad\n",
            "    p.grad.zero_()\n",
            "KeyboardInterrupt\n"
          ]
        }
      ]
    },
    {
      "cell_type": "code",
      "metadata": {
        "colab": {
          "base_uri": "https://localhost:8080/"
        },
        "id": "9yRdtXx-dUxl",
        "outputId": "587e5108-f610-47ba-b3dc-9c44835ec603"
      },
      "source": [
        "!python /content/machinelearningmidterm/train.py -d /content/coco128/coco2.data -m /content/config/yolov3s.cfg --pretrained_weights /content/weights/yolov3-spp.weights"
      ],
      "execution_count": 11,
      "outputs": [
        {
          "output_type": "stream",
          "name": "stdout",
          "text": [
            "Command line arguments: Namespace(data='/content/coco128/coco2.data', logdir='logs', model='/content/config/yolov3s.cfg', pretrained_weights='/content/weights/yolov3-spp.weights')\n",
            "\n",
            "---- Training Model ----\n",
            "Training Epoch 0: 100% 128/128 [00:54<00:00,  2.36it/s]\n",
            "---- Saving checkpoint to: 'checkpoints/yolov3_ckpt_0.weights' ----\n",
            "\n",
            "---- Evaluating Model ----\n",
            "Validating:   0% 0/37 [00:00<?, ?it/s]/usr/local/lib/python3.7/dist-packages/torch/functional.py:445: UserWarning: torch.meshgrid: in an upcoming release, it will be required to pass the indexing argument. (Triggered internally at  ../aten/src/ATen/native/TensorShape.cpp:2157.)\n",
            "  return _VF.meshgrid(tensors, **kwargs)  # type: ignore[attr-defined]\n",
            "Validating: 100% 37/37 [00:05<00:00,  6.92it/s]\n",
            "Computing AP: 100% 47/47 [00:00<00:00, 8198.13it/s]\n",
            "---- mAP 0.41313 ----\n",
            "\n",
            "---- Training Model ----\n",
            "Training Epoch 1:  33% 42/128 [00:18<00:37,  2.28it/s]\n",
            "Traceback (most recent call last):\n",
            "  File \"/content/machinelearningmidterm/train.py\", line 128, in <module>\n",
            "    run()\n",
            "  File \"/content/machinelearningmidterm/train.py\", line 64, in run\n",
            "    loss, loss_components = model.training_step(train_batch, batch_i)\n",
            "  File \"/content/machinelearningmidterm/models.py\", line 264, in training_step\n",
            "    outputs = self(x)\n",
            "  File \"/usr/local/lib/python3.7/dist-packages/torch/nn/modules/module.py\", line 1102, in _call_impl\n",
            "    return forward_call(*input, **kwargs)\n",
            "  File \"/content/machinelearningmidterm/models.py\", line 189, in forward\n",
            "    x = module(x)\n",
            "  File \"/usr/local/lib/python3.7/dist-packages/torch/nn/modules/module.py\", line 1102, in _call_impl\n",
            "    return forward_call(*input, **kwargs)\n",
            "  File \"/usr/local/lib/python3.7/dist-packages/torch/nn/modules/container.py\", line 141, in forward\n",
            "    input = module(input)\n",
            "  File \"/usr/local/lib/python3.7/dist-packages/torch/nn/modules/module.py\", line 1102, in _call_impl\n",
            "    return forward_call(*input, **kwargs)\n",
            "  File \"/usr/local/lib/python3.7/dist-packages/torch/nn/modules/conv.py\", line 446, in forward\n",
            "    return self._conv_forward(input, self.weight, self.bias)\n",
            "  File \"/usr/local/lib/python3.7/dist-packages/torch/nn/modules/conv.py\", line 443, in _conv_forward\n",
            "    self.padding, self.dilation, self.groups)\n",
            "KeyboardInterrupt\n"
          ]
        }
      ]
    },
    {
      "cell_type": "code",
      "metadata": {
        "colab": {
          "base_uri": "https://localhost:8080/"
        },
        "id": "7AX0DTLs01lO",
        "outputId": "f8034283-fe20-4038-9f37-835ae31f9d07"
      },
      "source": [
        "!python /content/machinelearningmidterm/video.py --weights weights/yolov3-tiny.weights --cfg config/yolo-tiny.cfg"
      ],
      "execution_count": 12,
      "outputs": [
        {
          "output_type": "stream",
          "name": "stdout",
          "text": [
            "/content/machinelearningmidterm/video.py:98: UserWarning: volatile was removed and now has no effect. Use `with torch.no_grad():` instead.\n",
            "  output = model(Variable(img, volatile=True))\n",
            "/usr/local/lib/python3.7/dist-packages/torch/functional.py:445: UserWarning: torch.meshgrid: in an upcoming release, it will be required to pass the indexing argument. (Triggered internally at  ../aten/src/ATen/native/TensorShape.cpp:2157.)\n",
            "  return _VF.meshgrid(tensors, **kwargs)  # type: ignore[attr-defined]\n",
            ": cannot connect to X server \n"
          ]
        }
      ]
    },
    {
      "cell_type": "code",
      "metadata": {
        "id": "K54yOwm3qTCt",
        "colab": {
          "base_uri": "https://localhost:8080/"
        },
        "outputId": "01962feb-667a-4f38-818c-6f1290e6f225"
      },
      "source": [
        "!mv /content/logs /content/drive/MyDrive/ml"
      ],
      "execution_count": null,
      "outputs": [
        {
          "output_type": "stream",
          "name": "stdout",
          "text": [
            "mv: cannot stat '/content/logs': No such file or directory\n"
          ]
        }
      ]
    },
    {
      "cell_type": "markdown",
      "metadata": {
        "id": "xxhdXBQ3bZdh"
      },
      "source": [
        ""
      ]
    },
    {
      "cell_type": "code",
      "metadata": {
        "colab": {
          "base_uri": "https://localhost:8080/"
        },
        "id": "QcQmiAa-zQ1Q",
        "outputId": "5a804d07-0ff9-48e1-e665-b9903a11bd88"
      },
      "source": [
        "!tensorboard --logdir '/content/logs' "
      ],
      "execution_count": null,
      "outputs": [
        {
          "output_type": "stream",
          "name": "stdout",
          "text": [
            "\n",
            "NOTE: Using experimental fast data loading logic. To disable, pass\n",
            "    \"--load_fast=false\" and report issues on GitHub. More details:\n",
            "    https://github.com/tensorflow/tensorboard/issues/4784\n",
            "\n",
            "Serving TensorBoard on localhost; to expose to the network, use a proxy or pass --bind_all\n",
            "TensorBoard 2.7.0 at http://localhost:6006/ (Press CTRL+C to quit)\n"
          ]
        }
      ]
    },
    {
      "cell_type": "code",
      "metadata": {
        "colab": {
          "base_uri": "https://localhost:8080/"
        },
        "id": "psb8j3EXmFaV",
        "outputId": "82cd9de8-b4e8-4c4b-c9dc-d30f2d5ea3dc"
      },
      "source": [
        "!pip install tensorboard"
      ],
      "execution_count": null,
      "outputs": [
        {
          "output_type": "stream",
          "name": "stdout",
          "text": [
            "Requirement already satisfied: tensorboard in /usr/local/lib/python3.7/dist-packages (2.7.0)\n",
            "Requirement already satisfied: google-auth-oauthlib<0.5,>=0.4.1 in /usr/local/lib/python3.7/dist-packages (from tensorboard) (0.4.6)\n",
            "Requirement already satisfied: absl-py>=0.4 in /usr/local/lib/python3.7/dist-packages (from tensorboard) (0.12.0)\n",
            "Requirement already satisfied: wheel>=0.26 in /usr/local/lib/python3.7/dist-packages (from tensorboard) (0.37.0)\n",
            "Requirement already satisfied: google-auth<3,>=1.6.3 in /usr/local/lib/python3.7/dist-packages (from tensorboard) (1.35.0)\n",
            "Requirement already satisfied: grpcio>=1.24.3 in /usr/local/lib/python3.7/dist-packages (from tensorboard) (1.42.0)\n",
            "Requirement already satisfied: tensorboard-data-server<0.7.0,>=0.6.0 in /usr/local/lib/python3.7/dist-packages (from tensorboard) (0.6.1)\n",
            "Requirement already satisfied: setuptools>=41.0.0 in /usr/local/lib/python3.7/dist-packages (from tensorboard) (57.4.0)\n",
            "Requirement already satisfied: numpy>=1.12.0 in /usr/local/lib/python3.7/dist-packages (from tensorboard) (1.19.5)\n",
            "Requirement already satisfied: protobuf>=3.6.0 in /usr/local/lib/python3.7/dist-packages (from tensorboard) (3.17.3)\n",
            "Requirement already satisfied: werkzeug>=0.11.15 in /usr/local/lib/python3.7/dist-packages (from tensorboard) (1.0.1)\n",
            "Requirement already satisfied: markdown>=2.6.8 in /usr/local/lib/python3.7/dist-packages (from tensorboard) (3.3.6)\n",
            "Requirement already satisfied: tensorboard-plugin-wit>=1.6.0 in /usr/local/lib/python3.7/dist-packages (from tensorboard) (1.8.0)\n",
            "Requirement already satisfied: requests<3,>=2.21.0 in /usr/local/lib/python3.7/dist-packages (from tensorboard) (2.23.0)\n",
            "Requirement already satisfied: six in /usr/local/lib/python3.7/dist-packages (from absl-py>=0.4->tensorboard) (1.15.0)\n",
            "Requirement already satisfied: cachetools<5.0,>=2.0.0 in /usr/local/lib/python3.7/dist-packages (from google-auth<3,>=1.6.3->tensorboard) (4.2.4)\n",
            "Requirement already satisfied: rsa<5,>=3.1.4 in /usr/local/lib/python3.7/dist-packages (from google-auth<3,>=1.6.3->tensorboard) (4.7.2)\n",
            "Requirement already satisfied: pyasn1-modules>=0.2.1 in /usr/local/lib/python3.7/dist-packages (from google-auth<3,>=1.6.3->tensorboard) (0.2.8)\n",
            "Requirement already satisfied: requests-oauthlib>=0.7.0 in /usr/local/lib/python3.7/dist-packages (from google-auth-oauthlib<0.5,>=0.4.1->tensorboard) (1.3.0)\n",
            "Requirement already satisfied: importlib-metadata>=4.4 in /usr/local/lib/python3.7/dist-packages (from markdown>=2.6.8->tensorboard) (4.8.2)\n",
            "Requirement already satisfied: zipp>=0.5 in /usr/local/lib/python3.7/dist-packages (from importlib-metadata>=4.4->markdown>=2.6.8->tensorboard) (3.6.0)\n",
            "Requirement already satisfied: typing-extensions>=3.6.4 in /usr/local/lib/python3.7/dist-packages (from importlib-metadata>=4.4->markdown>=2.6.8->tensorboard) (3.10.0.2)\n",
            "Requirement already satisfied: pyasn1<0.5.0,>=0.4.6 in /usr/local/lib/python3.7/dist-packages (from pyasn1-modules>=0.2.1->google-auth<3,>=1.6.3->tensorboard) (0.4.8)\n",
            "Requirement already satisfied: chardet<4,>=3.0.2 in /usr/local/lib/python3.7/dist-packages (from requests<3,>=2.21.0->tensorboard) (3.0.4)\n",
            "Requirement already satisfied: certifi>=2017.4.17 in /usr/local/lib/python3.7/dist-packages (from requests<3,>=2.21.0->tensorboard) (2021.10.8)\n",
            "Requirement already satisfied: urllib3!=1.25.0,!=1.25.1,<1.26,>=1.21.1 in /usr/local/lib/python3.7/dist-packages (from requests<3,>=2.21.0->tensorboard) (1.24.3)\n",
            "Requirement already satisfied: idna<3,>=2.5 in /usr/local/lib/python3.7/dist-packages (from requests<3,>=2.21.0->tensorboard) (2.10)\n",
            "Requirement already satisfied: oauthlib>=3.0.0 in /usr/local/lib/python3.7/dist-packages (from requests-oauthlib>=0.7.0->google-auth-oauthlib<0.5,>=0.4.1->tensorboard) (3.1.1)\n"
          ]
        }
      ]
    },
    {
      "cell_type": "code",
      "metadata": {
        "id": "VwXqE5_HpPoE"
      },
      "source": [
        "!rm -rf /content/logs"
      ],
      "execution_count": null,
      "outputs": []
    }
  ]
}